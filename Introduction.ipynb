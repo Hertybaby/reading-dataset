{
 "cells": [
  {
   "cell_type": "markdown",
   "id": "6993d266-e24f-424a-8784-93293cc904a9",
   "metadata": {},
   "source": [
    "## import labraries"
   ]
  },
  {
   "cell_type": "code",
   "execution_count": 1,
   "id": "bc7da4aa-a480-4023-97a3-1dc96e4f6cfc",
   "metadata": {},
   "outputs": [],
   "source": [
    "import pandas as pd"
   ]
  },
  {
   "cell_type": "markdown",
   "id": "dcb362e2-1306-498b-88ac-d94b126230ea",
   "metadata": {},
   "source": [
    "## Loading datasets"
   ]
  },
  {
   "cell_type": "code",
   "execution_count": 2,
   "id": "19e0d4bd-4a46-4a0c-a7c9-da4df2e77af5",
   "metadata": {},
   "outputs": [],
   "source": [
    "data = pd.read_csv(\"Datasets/Iris_data_sample.csv\")"
   ]
  },
  {
   "cell_type": "markdown",
   "id": "bb627cb6-152f-4170-8c90-49d9884b1494",
   "metadata": {},
   "source": [
    "## displaying data"
   ]
  },
  {
   "cell_type": "code",
   "execution_count": null,
   "id": "07b955ea-bab8-40f1-9bb1-8bf91a675f12",
   "metadata": {},
   "outputs": [],
   "source": [
    "data.head()"
   ]
  }
 ],
 "metadata": {
  "kernelspec": {
   "display_name": "Python 3 (ipykernel)",
   "language": "python",
   "name": "python3"
  },
  "language_info": {
   "codemirror_mode": {
    "name": "ipython",
    "version": 3
   },
   "file_extension": ".py",
   "mimetype": "text/x-python",
   "name": "python",
   "nbconvert_exporter": "python",
   "pygments_lexer": "ipython3",
   "version": "3.11.4"
  }
 },
 "nbformat": 4,
 "nbformat_minor": 5
}
